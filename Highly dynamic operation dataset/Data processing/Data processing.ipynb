{
 "cells": [
  {
   "cell_type": "code",
   "execution_count": 1,
   "metadata": {},
   "outputs": [],
   "source": [
    "import os\n",
    "import pandas as pd\n",
    "from decimal import Decimal"
   ]
  },
  {
   "cell_type": "code",
   "execution_count": 2,
   "metadata": {},
   "outputs": [],
   "source": [
    "# Capactiy_list file generation\n",
    "folder_path = 'Raw data'\n",
    "output_file_path = 'capacity list.xlsx'\n",
    "columns = ['batch', 'sequence'] + [str(i) for i in range(0, 625, 25)]\n",
    "capacity_df = pd.DataFrame(columns=columns)\n",
    "\n",
    "file_list = sorted([f for f in os.listdir(folder_path) if f.endswith('.csv')])\n",
    "\n",
    "for file in file_list:\n",
    "    file_path = os.path.join(folder_path, file)\n",
    "    data = pd.read_csv(file_path)\n",
    "    \n",
    "    batch = 'b' + file[-5]\n",
    "    sequence = file[:7]\n",
    "    row_data = [batch, sequence]\n",
    "    \n",
    "    cycle_points = list(range(4, 725, 30))\n",
    "    for cycle in cycle_points:\n",
    "        discharge_data = data[(data['Type'] == 'discharge') & (data['TotCycle'] == cycle)]\n",
    "        capacity_value = discharge_data['Dischar. Cap.(Ah)'].iloc[-1] if not discharge_data.empty else None\n",
    "        row_data.append(capacity_value)\n",
    "\n",
    "    capacity_df.loc[len(capacity_df)] = row_data\n",
    "\n",
    "capacity_df.to_excel(output_file_path, index=False)\n"
   ]
  },
  {
   "cell_type": "code",
   "execution_count": null,
   "metadata": {},
   "outputs": [],
   "source": [
    "### Diagnosis folder generation\n",
    "input_folder_path = 'Raw data'\n",
    "output_folder_path = 'diagnosis'\n",
    "\n",
    "if not os.path.exists(output_folder_path):\n",
    "    os.makedirs(output_folder_path)\n",
    "\n",
    "file_list = sorted([f for f in os.listdir(input_folder_path) if f.endswith('.csv')])\n",
    "\n",
    "for file in file_list:\n",
    "    input_file_path = os.path.join(input_folder_path, file)\n",
    "    data = pd.read_csv(input_file_path, float_precision='high')\n",
    "\n",
    "    new_file_name = file[:2] + '_b' + file[-5]\n",
    "    output_file_path = os.path.join(output_folder_path, f'{new_file_name}.csv')\n",
    "\n",
    "    totcycle_points = [2, 32, 62, 92, 122, 152, 182, 212, 242, 272, 302, 332, 362, 392, 422, 452, 482, 512, 542, 572, 602, 632, 662, 692, 722]\n",
    "\n",
    "    stepno_mapping = {\n",
    "        \"range_1\": [6, 8, 10, 12, 14, 16, 18, 20, 22, 24],\n",
    "        \"range_2\": [49, 51, 53, 55, 57, 59, 61, 63, 65, 67],\n",
    "        \"range_3\": [92, 94, 96, 98, 100, 102, 104, 106, 108, 110],\n",
    "        \"range_4\": [135, 137, 139, 141, 143, 145, 147, 149, 151, 153],\n",
    "        \"range_5\": [178, 180, 182, 184, 186, 188, 190, 192, 194, 196]\n",
    "    }\n",
    "    result_data = []\n",
    "\n",
    "    for cycle in totcycle_points:\n",
    "        if cycle == 2:\n",
    "            stepno_list = stepno_mapping[\"range_1\"]\n",
    "        elif cycle in [32, 152, 272, 392, 512, 632]:\n",
    "            stepno_list = stepno_mapping[\"range_2\"]\n",
    "        elif cycle in [62, 182, 302, 422, 542, 662]:\n",
    "            stepno_list = stepno_mapping[\"range_3\"]\n",
    "        elif cycle in [92, 212, 332, 452, 572, 692]:\n",
    "            stepno_list = stepno_mapping[\"range_4\"]\n",
    "        elif cycle in [122, 242, 362, 482, 602, 722]:\n",
    "            stepno_list = stepno_mapping[\"range_5\"]\n",
    "        filtered_data = data[(data['TotCycle'] == cycle) & (data['Type'] == 'rest') & (data['StepNo'].isin(stepno_list))]\n",
    "\n",
    "        voltage_diffs = []\n",
    "        for _, group in filtered_data.groupby('StepNo'):\n",
    "            v1 = Decimal(str(group['Voltage(V)'].iloc[-1]))\n",
    "            v2 = Decimal(str(group['Voltage(V)'].iloc[1]))\n",
    "            voltage_diffs.append(float(v1 - v2))\n",
    "\n",
    "        result_data.append(voltage_diffs)\n",
    "\n",
    "    result_df = pd.DataFrame(result_data, columns=[f'Step_{i}' for i in range(6, 26, 2)], index=totcycle_points)\n",
    "    result_df.to_csv(output_file_path, header=False, index=False, float_format='%.4f')\n",
    "    print(f\"'{output_file_path}' has been saved.\")"
   ]
  }
 ],
 "metadata": {
  "kernelspec": {
   "display_name": "base",
   "language": "python",
   "name": "python3"
  },
  "language_info": {
   "codemirror_mode": {
    "name": "ipython",
    "version": 3
   },
   "file_extension": ".py",
   "mimetype": "text/x-python",
   "name": "python",
   "nbconvert_exporter": "python",
   "pygments_lexer": "ipython3",
   "version": "3.9.18"
  }
 },
 "nbformat": 4,
 "nbformat_minor": 2
}
